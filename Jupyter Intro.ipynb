{
 "cells": [
  {
   "cell_type": "markdown",
   "metadata": {},
   "source": [
    "# Jupyter Notebook Introduction"
   ]
  },
  {
   "cell_type": "raw",
   "metadata": {},
   "source": [
    "Programming in the browser\n",
    "Code, Instructions and output are displayed together"
   ]
  },
  {
   "cell_type": "markdown",
   "metadata": {},
   "source": [
    "# Install"
   ]
  },
  {
   "cell_type": "raw",
   "metadata": {},
   "source": [
    "Anaconda"
   ]
  },
  {
   "cell_type": "markdown",
   "metadata": {},
   "source": [
    "# User Interface Tour"
   ]
  },
  {
   "cell_type": "markdown",
   "metadata": {},
   "source": [
    "# Executing Commands"
   ]
  },
  {
   "cell_type": "code",
   "execution_count": null,
   "metadata": {},
   "outputs": [],
   "source": [
    "print(\"Hello World\")"
   ]
  },
  {
   "cell_type": "code",
   "execution_count": null,
   "metadata": {},
   "outputs": [],
   "source": [
    "name=input(\"what's your name\")\n",
    "print(\"Hello\",name)"
   ]
  },
  {
   "cell_type": "code",
   "execution_count": null,
   "metadata": {},
   "outputs": [],
   "source": [
    "3+6"
   ]
  },
  {
   "cell_type": "code",
   "execution_count": null,
   "metadata": {},
   "outputs": [],
   "source": [
    "import matplotlib.pyplot as plt\n",
    "image = plt.imread('Friday.jpeg')\n",
    "plt.imshow(image)"
   ]
  },
  {
   "cell_type": "code",
   "execution_count": null,
   "metadata": {},
   "outputs": [],
   "source": [
    "import seaborn as sns \n",
    "\n",
    "df = sns.load_dataset('iris') \n",
    "print(df.head(10))\n",
    "\n",
    "my_pal = {\"versicolor\": \"g\", \"setosa\": \"b\", \"virginica\":\"m\"} \n",
    "sns.boxplot( x=df[\"species\"], y=df[\"sepal_width\"], palette=my_pal) \n"
   ]
  },
  {
   "cell_type": "code",
   "execution_count": null,
   "metadata": {},
   "outputs": [],
   "source": [
    "from bs4 import BeautifulSoup\n",
    "import requests\n",
    " \n",
    "url = \"https://houston.craigslist.org/search/cta\"\n",
    " \n",
    "# Getting the webpage, creating a Response object.\n",
    "response = requests.get(url)\n",
    " \n",
    "# Extracting the source code of the page.\n",
    "data = response.text\n",
    " \n",
    "# Passing the source code to Beautiful Soup to create a BeautifulSoup object for it.\n",
    "soup = BeautifulSoup(data, 'lxml')\n",
    " \n",
    "# Extracting all the <a> tags whose class name is 'result-title' into a list.\n",
    "titles = soup.findAll('a', {'class': 'result-title'})\n",
    "\n",
    " \n",
    "# Extracting text from the the <a> tags, i.e. class titles.\n",
    "for title in titles:\n",
    "    print (title.text)"
   ]
  },
  {
   "cell_type": "markdown",
   "metadata": {},
   "source": [
    "# Error message"
   ]
  },
  {
   "cell_type": "code",
   "execution_count": null,
   "metadata": {},
   "outputs": [],
   "source": [
    "print \"hello world\""
   ]
  },
  {
   "cell_type": "markdown",
   "metadata": {},
   "source": [
    "# Embedding Text (Markdown)"
   ]
  },
  {
   "cell_type": "markdown",
   "metadata": {},
   "source": [
    "# Let's learn Jupyter\n",
    "## Let's learn Jupyter\n",
    "### Let's learn Jupyter\n",
    "#### Let's learn Jupyter\n",
    "Let's learn Jupyter"
   ]
  },
  {
   "cell_type": "code",
   "execution_count": null,
   "metadata": {},
   "outputs": [],
   "source": []
  },
  {
   "cell_type": "markdown",
   "metadata": {},
   "source": [
    "# Embedding Text (Raw NBConvert)"
   ]
  },
  {
   "cell_type": "raw",
   "metadata": {},
   "source": [
    "Let's learn Jupyter"
   ]
  },
  {
   "cell_type": "markdown",
   "metadata": {},
   "source": [
    "# Embedding Links"
   ]
  },
  {
   "cell_type": "markdown",
   "metadata": {},
   "source": [
    "https://library.rice.edu/"
   ]
  },
  {
   "cell_type": "markdown",
   "metadata": {},
   "source": [
    "[Fondren](https://library.rice.edu/)"
   ]
  },
  {
   "cell_type": "markdown",
   "metadata": {},
   "source": [
    "[Fondren](https://library.rice.edu/ \"Fondren Homepage\")"
   ]
  },
  {
   "cell_type": "code",
   "execution_count": null,
   "metadata": {},
   "outputs": [],
   "source": []
  },
  {
   "cell_type": "code",
   "execution_count": null,
   "metadata": {},
   "outputs": [],
   "source": []
  },
  {
   "cell_type": "code",
   "execution_count": null,
   "metadata": {},
   "outputs": [],
   "source": []
  },
  {
   "cell_type": "markdown",
   "metadata": {},
   "source": [
    "# Embedding Formulas & Equations"
   ]
  },
  {
   "cell_type": "markdown",
   "metadata": {},
   "source": [
    "$$c = \\sqrt{a^2 + b^2}$$"
   ]
  },
  {
   "cell_type": "markdown",
   "metadata": {},
   "source": [
    "$$e^x=\\sum_{i=0}^\\infty \\frac{1}{i!}x^i$$"
   ]
  },
  {
   "cell_type": "markdown",
   "metadata": {},
   "source": [
    "$$ \\left\\{ \\begin{array}{l}\n",
    "0 = c_x-a_{x0}-d_{x0}\\dfrac{(c_x-a_{x0})\\cdot d_{x0}}{\\|d_{x0}\\|^2} + c_x-a_{x1}-d_{x1}\\dfrac{(c_x-a_{x1})\\cdot d_{x1}}{\\|d_{x1}\\|^2} \\\\[2ex] \n",
    "0 = c_y-a_{y0}-d_{y0}\\dfrac{(c_y-a_{y0})\\cdot d_{y0}}{\\|d_{y0}\\|^2} + c_y-a_{y1}-d_{y1}\\dfrac{(c_y-a_{y1})\\cdot d_{y1}}{\\|d_{y1}\\|^2} \\end{array} \\right. \n",
    "$$"
   ]
  },
  {
   "cell_type": "markdown",
   "metadata": {},
   "source": [
    "Refer to the [Mathjax Tutorial](https://math.meta.stackexchange.com/questions/5020/mathjax-basic-tutorial-and-quick-reference) for syntax help."
   ]
  },
  {
   "cell_type": "code",
   "execution_count": null,
   "metadata": {},
   "outputs": [],
   "source": [
    "from platform import python_version\n",
    "print(python_version())"
   ]
  },
  {
   "cell_type": "code",
   "execution_count": null,
   "metadata": {},
   "outputs": [],
   "source": [
    "help()"
   ]
  },
  {
   "cell_type": "code",
   "execution_count": null,
   "metadata": {},
   "outputs": [],
   "source": [
    "help(\"pandas\")"
   ]
  },
  {
   "cell_type": "markdown",
   "metadata": {},
   "source": [
    "# Environment manager"
   ]
  },
  {
   "cell_type": "raw",
   "metadata": {},
   "source": [
    "1. Creat a new environment\n",
    "2. Home-Applications on New\n",
    "3. Install Jupyter notebook\n",
    "4. Launch (or launch it from Anaconda Promt, activate jupyter notebook)"
   ]
  },
  {
   "cell_type": "markdown",
   "metadata": {},
   "source": [
    "# Anaconda prompt"
   ]
  },
  {
   "cell_type": "raw",
   "metadata": {},
   "source": [
    "1. conda install\n",
    "2. Change enviorment\n",
    "3. Change working directory\n",
    "4. Launch jupyter notebook"
   ]
  },
  {
   "cell_type": "code",
   "execution_count": null,
   "metadata": {},
   "outputs": [],
   "source": []
  }
 ],
 "metadata": {
  "kernelspec": {
   "display_name": "Python 3",
   "language": "python",
   "name": "python3"
  },
  "language_info": {
   "codemirror_mode": {
    "name": "ipython",
    "version": 3
   },
   "file_extension": ".py",
   "mimetype": "text/x-python",
   "name": "python",
   "nbconvert_exporter": "python",
   "pygments_lexer": "ipython3",
   "version": "3.6.5"
  }
 },
 "nbformat": 4,
 "nbformat_minor": 2
}
